{
 "cells": [
  {
   "cell_type": "code",
   "execution_count": 1,
   "metadata": {},
   "outputs": [
    {
     "name": "stdout",
     "output_type": "stream",
     "text": [
      "Collecting pynput\n",
      "  Using cached pynput-1.7.6-py2.py3-none-any.whl (89 kB)\n",
      "Requirement already satisfied: six in c:\\users\\jpmag\\appdata\\local\\packages\\pythonsoftwarefoundation.python.3.10_qbz5n2kfra8p0\\localcache\\local-packages\\python310\\site-packages (from pynput) (1.16.0)\n",
      "Installing collected packages: pynput\n",
      "Successfully installed pynput-1.7.6\n"
     ]
    },
    {
     "name": "stderr",
     "output_type": "stream",
     "text": [
      "\n",
      "[notice] A new release of pip available: 22.3 -> 23.0.1\n",
      "[notice] To update, run: C:\\Users\\jpmag\\AppData\\Local\\Microsoft\\WindowsApps\\PythonSoftwareFoundation.Python.3.10_qbz5n2kfra8p0\\python.exe -m pip install --upgrade pip\n"
     ]
    }
   ],
   "source": [
    "!pip install pynput"
   ]
  },
  {
   "cell_type": "code",
   "execution_count": 2,
   "metadata": {},
   "outputs": [
    {
     "name": "stdout",
     "output_type": "stream",
     "text": [
      "Key.ctrl_l released\n",
      "alphanumeric key a pressed\n",
      "'a' released\n",
      "alphanumeric key b pressed\n",
      "'b' released\n",
      "alphanumeric key c pressed\n",
      "'c' released\n",
      "alphanumeric key d pressed\n",
      "'d' released\n",
      "special key Key.shift pressed\n",
      "special key Key.shift pressed\n",
      "special key Key.shift pressed\n",
      "special key Key.shift pressed\n",
      "special key Key.shift pressed\n",
      "special key Key.shift pressed\n",
      "special key Key.shift pressed\n",
      "special key Key.shift pressed\n",
      "alphanumeric key A pressed\n",
      "'A' released\n",
      "Key.shift released\n",
      "special key Key.esc pressed\n",
      "Key.esc released\n",
      "Gracefully Stopping!\n"
     ]
    }
   ],
   "source": [
    "from pynput import keyboard\n",
    "\n",
    "\n",
    "#detect key press\n",
    "def on_press(key):\n",
    "\ttry:\n",
    "\t\tprint('alphanumeric key {0} pressed'.format(key.char))\n",
    "\t\tf.write('alphanumeric key {0} pressed\\n'.format(key.char))\n",
    "\texcept:\n",
    "\t\tprint('special key {0} pressed'.format(key))\n",
    "\t\tf.write('special key {0} pressed\\n'.format(key))\n",
    "\n",
    "\n",
    "#detect key releases\n",
    "def on_release(key):\n",
    "\tprint('{0} released'.format(key))\n",
    "\tif key == keyboard.Key.esc:\n",
    "\t#stop listener\n",
    "\t\tprint('Gracefully Stopping!')\n",
    "\t\treturn False \n",
    "\n",
    "\n",
    "f = open('logger.txt', 'a')\n",
    "\n",
    "\n",
    "#collecting events\n",
    "with keyboard.Listener(on_press=on_press, on_release=on_release) as listener:\n",
    "\tlistener.join()\n",
    "f.close()"
   ]
  }
 ],
 "metadata": {
  "kernelspec": {
   "display_name": "Python 3",
   "language": "python",
   "name": "python3"
  },
  "language_info": {
   "codemirror_mode": {
    "name": "ipython",
    "version": 3
   },
   "file_extension": ".py",
   "mimetype": "text/x-python",
   "name": "python",
   "nbconvert_exporter": "python",
   "pygments_lexer": "ipython3",
   "version": "3.10.10"
  },
  "vscode": {
   "interpreter": {
    "hash": "696ba46bc9ba7c21d82d00dc08952699c0ee13df55f8102f3a6ffb0593d65918"
   }
  }
 },
 "nbformat": 4,
 "nbformat_minor": 4
}
